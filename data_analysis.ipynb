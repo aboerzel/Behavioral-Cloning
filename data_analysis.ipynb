{
 "cells": [
  {
   "cell_type": "code",
   "execution_count": 36,
   "metadata": {},
   "outputs": [
    {
     "name": "stdout",
     "output_type": "stream",
     "text": [
      "image_paths: 10433\nmeasurements: 10433\n"
     ]
    }
   ],
   "source": [
    "import os\n",
    "import matplotlib.pyplot as plt\n",
    "import config\n",
    "from data import read_samples_from_file\n",
    "\n",
    "root_path = os.path.join(os.getcwd(), 'Behavioral-Cloning')\n",
    "\n",
    "image_paths, measurements = read_samples_from_file(\n",
    "    os.path.join(os.path.join(root_path, config.DATASET_ROOT_PATH), config.DRIVING_LOG),\n",
    "    config.STEERING_CORRECTION)\n",
    "\n",
    "# print the length of the dataset\n",
    "print('image_paths: {}'.format((len(image_paths))))\n",
    "print('measurements: {}'.format((len(measurements))))\n"
   ]
  },
  {
   "cell_type": "code",
   "execution_count": 41,
   "metadata": {},
   "outputs": [
    {
     "data": {
      "image/png": "[encoded data removed]",
      "text/plain": [
       "<Figure size 432x288 with 1 Axes>"
      ]
     },
     "metadata": {},
     "output_type": "display_data"
    }
   ],
   "source": [
    "# show the distribution of the steering angles in the dataset\n",
    "plt.hist(measurements[:, 0], bins=config.NUM_DATA_BINS)\n",
    "plt.title = 'Steering Angle Distribution'\n",
    "plt.savefig(os.path.join(root_path, './examples/steering_distribution_before.png'))\n",
    "plt.show()"
   ]
  },
  {
   "cell_type": "code",
   "execution_count": 42,
   "metadata": {},
   "outputs": [
    {
     "name": "stdout",
     "output_type": "stream",
     "text": [
      "X_train: 73643\ny_train: 73643\n"
     ]
    }
   ],
   "source": [
    "from data import distribute_data\n",
    "\n",
    "# make a even distribution of the steering angles\n",
    "X_train, y_train = distribute_data(image_paths, measurements)\n",
    "\n",
    "# print the length of the train- and validation data\n",
    "print('X_train: {}'.format((len(X_train))))\n",
    "print('y_train: {}'.format((len(y_train))))"
   ]
  },
  {
   "cell_type": "code",
   "execution_count": 40,
   "metadata": {
    "collapsed": true
   },
   "outputs": [
    {
     "data": {
      "image/png": "[encoded data removed]",
      "text/plain": [
       "<Figure size 432x288 with 1 Axes>"
      ]
     },
     "metadata": {},
     "output_type": "display_data"
    }
   ],
   "source": [
    "# show the new distribution of the steering angles after the compensation\n",
    "plt.hist(y_train[:, 0], bins=config.NUM_DATA_BINS)\n",
    "plt.savefig(os.path.join(root_path, './examples/steering_distribution_after.png'))\n",
    "plt.show()"
   ]
  },
  {
   "cell_type": "code",
   "execution_count": null,
   "metadata": {},
   "outputs": [],
   "source": []
  }
 ],
 "metadata": {
  "kernelspec": {
   "display_name": "Python 2",
   "language": "python",
   "name": "python2"
  },
  "language_info": {
   "codemirror_mode": {
    "name": "ipython",
    "version": 2
   },
   "file_extension": ".py",
   "mimetype": "text/x-python",
   "name": "python",
   "nbconvert_exporter": "python",
   "pygments_lexer": "ipython2",
   "version": "2.7.6"
  }
 },
 "nbformat": 4,
 "nbformat_minor": 0
}
